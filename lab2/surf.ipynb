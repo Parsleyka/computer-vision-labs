{
 "cells": [
  {
   "cell_type": "code",
   "execution_count": 1,
   "outputs": [],
   "source": [
    "import cv2\n",
    "import numpy as np"
   ],
   "metadata": {
    "collapsed": false,
    "ExecuteTime": {
     "end_time": "2024-02-24T20:14:30.371541200Z",
     "start_time": "2024-02-24T20:14:30.251359300Z"
    }
   },
   "id": "97d4ccf16d683404"
  },
  {
   "cell_type": "code",
   "execution_count": 2,
   "outputs": [],
   "source": [
    "def compute_gradients(image):\n",
    "    # Compute gradients in x and y directions using Sobel operator\n",
    "    dx = cv2.Sobel(image, cv2.CV_64F, 1, 0, ksize=5)\n",
    "    dy = cv2.Sobel(image, cv2.CV_64F, 0, 1, ksize=5)\n",
    "    return dx, dy"
   ],
   "metadata": {
    "collapsed": false,
    "ExecuteTime": {
     "end_time": "2024-02-24T20:14:35.204424300Z",
     "start_time": "2024-02-24T20:14:35.183959600Z"
    }
   },
   "id": "681ba471b0b1d327"
  },
  {
   "cell_type": "code",
   "execution_count": 3,
   "outputs": [],
   "source": [
    "def compute_integral_image(image):\n",
    "    # Compute integral image for fast box filter computation\n",
    "    integral_image = np.cumsum(np.cumsum(image, axis=0), axis=1)\n",
    "    return integral_image"
   ],
   "metadata": {
    "collapsed": false,
    "ExecuteTime": {
     "end_time": "2024-02-24T20:14:35.204965100Z",
     "start_time": "2024-02-24T20:14:35.195481200Z"
    }
   },
   "id": "ed8a566b6c20f5f9"
  },
  {
   "cell_type": "code",
   "execution_count": 4,
   "outputs": [],
   "source": [
    "def compute_box_filter(integral_image, x, y, width, height):\n",
    "    # Compute sum of pixels in the given box using integral image\n",
    "    x0, y0 = max(x - width // 2, 0), max(y - height // 2, 0)\n",
    "    x1, y1 = min(x + width // 2, integral_image.shape[1] - 1), min(y + height // 2, integral_image.shape[0] - 1)\n",
    "    \n",
    "    upper_left = integral_image[y0, x0]\n",
    "    bottom_right = integral_image[y1, x1]\n",
    "    upper_right = integral_image[y0, x1]\n",
    "    bottom_left = integral_image[y1, x0]\n",
    "    \n",
    "    return bottom_right - upper_right - bottom_left + upper_left"
   ],
   "metadata": {
    "collapsed": false,
    "ExecuteTime": {
     "end_time": "2024-02-24T20:14:35.221722800Z",
     "start_time": "2024-02-24T20:14:35.201699900Z"
    }
   },
   "id": "34d24bd32f4a014d"
  },
  {
   "cell_type": "code",
   "execution_count": 5,
   "outputs": [],
   "source": [
    "def detect_surf(image, threshold=1000):\n",
    "    # Compute gradients\n",
    "    dx, dy = compute_gradients(image)\n",
    "    \n",
    "    # Compute integral image\n",
    "    integral_image = compute_integral_image(image)\n",
    "    \n",
    "    keypoints = []\n",
    "    \n",
    "    # Define parameters\n",
    "    num_octaves = 4\n",
    "    num_scales = 5\n",
    "    k = 2 ** (1 / num_scales)\n",
    "    initial_sigma = 1.6\n",
    "    \n",
    "    # Generate scale space\n",
    "    for octave in range(num_octaves):\n",
    "        sigma = initial_sigma\n",
    "        \n",
    "        for scale in range(num_scales):\n",
    "            # Compute scale factor\n",
    "            factor = (2 ** octave) * k ** scale\n",
    "            scale_dx = cv2.resize(dx, None, fx=factor, fy=factor)\n",
    "            scale_dy = cv2.resize(dy, None, fx=factor, fy=factor)\n",
    "            \n",
    "            # Compute Harris response\n",
    "            hessian_xx = cv2.GaussianBlur(scale_dx * scale_dx, (9, 9), sigma)\n",
    "            hessian_xy = cv2.GaussianBlur(scale_dx * scale_dy, (9, 9), sigma)\n",
    "            hessian_yy = cv2.GaussianBlur(scale_dy * scale_dy, (9, 9), sigma)\n",
    "            harris_response = (hessian_xx * hessian_yy - hessian_xy ** 2) - 0.04 * ((hessian_xx + hessian_yy) ** 2)\n",
    "            \n",
    "            # Non-maximum suppression\n",
    "            local_maxima = (harris_response == cv2.dilate(harris_response, np.ones((3, 3))))\n",
    "            keypoints.extend(zip(*np.where(local_maxima & (harris_response > threshold))))\n",
    "            \n",
    "            # Update sigma for next scale\n",
    "            sigma *= k\n",
    "    \n",
    "    return keypoints"
   ],
   "metadata": {
    "collapsed": false,
    "ExecuteTime": {
     "end_time": "2024-02-24T20:14:35.221722800Z",
     "start_time": "2024-02-24T20:14:35.214534100Z"
    }
   },
   "id": "a25d5fa00204d908"
  }
 ],
 "metadata": {
  "kernelspec": {
   "display_name": "Python 3",
   "language": "python",
   "name": "python3"
  },
  "language_info": {
   "codemirror_mode": {
    "name": "ipython",
    "version": 2
   },
   "file_extension": ".py",
   "mimetype": "text/x-python",
   "name": "python",
   "nbconvert_exporter": "python",
   "pygments_lexer": "ipython2",
   "version": "2.7.6"
  }
 },
 "nbformat": 4,
 "nbformat_minor": 5
}
